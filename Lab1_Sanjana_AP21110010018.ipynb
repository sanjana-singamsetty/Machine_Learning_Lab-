{
 "cells": [
  {
   "cell_type": "markdown",
   "id": "02341aa9",
   "metadata": {},
   "source": [
    "# Lab- 1 Machine Learning - AP21110010018\n"
   ]
  },
  {
   "cell_type": "markdown",
   "id": "9156d729",
   "metadata": {},
   "source": [
    "### Introduction To Numpy\n",
    "\n",
    "1. Write a NumPy program to multiply two given arrays of same size element-by-element.\n",
    "2. Write a NumPy program to find the missing data in a given array.\n",
    "3. Write a NumPy program to test whether each element of a 1-D array is also present in a second array.\n",
    "4. Write a NumPy program to save a NumPy array to a text file.\n",
    "5. Write a NumPy program to Create a 1-D array of 30 evenly spaced elements between 2.5. and 6.5, inclusive.\n"
   ]
  },
  {
   "cell_type": "code",
   "execution_count": 2,
   "id": "6cf2157b",
   "metadata": {},
   "outputs": [],
   "source": [
    "import numpy as np\n",
    "import pandas as pd"
   ]
  },
  {
   "cell_type": "code",
   "execution_count": 4,
   "id": "c8718c61",
   "metadata": {},
   "outputs": [
    {
     "name": "stdout",
     "output_type": "stream",
     "text": [
      "[ 12  46  39 176]\n"
     ]
    }
   ],
   "source": [
    "#1. Write a NumPy program to multiply two given arrays of same size element-by-element.\n",
    "a1=np.array([1,2,3,4])\n",
    "a2=np.array([12,23,13,44])\n",
    "ans=a1*a2\n",
    "print(ans)"
   ]
  },
  {
   "cell_type": "code",
   "execution_count": 6,
   "id": "a41695f9",
   "metadata": {},
   "outputs": [
    {
     "name": "stdout",
     "output_type": "stream",
     "text": [
      "missing data:  [2 5]\n"
     ]
    }
   ],
   "source": [
    "#Write a NumPy program to find the missing data in a given array.\n",
    "data=np.array([1,2,np.nan,4,5,np.nan])\n",
    "missing=np.isnan(data)\n",
    "print(\"missing data: \",np.where(missing)[0])\n"
   ]
  },
  {
   "cell_type": "markdown",
   "id": "1469926b",
   "metadata": {},
   "source": [
    "\n",
    "- The expression np.where(missing_indices)[0] is used to extract the indices where the condition specified by missing_indices is true."
   ]
  },
  {
   "cell_type": "code",
   "execution_count": 8,
   "id": "9092dfac",
   "metadata": {},
   "outputs": [
    {
     "name": "stdout",
     "output_type": "stream",
     "text": [
      "[ True False False False False]\n"
     ]
    }
   ],
   "source": [
    "#Write a NumPy program to test whether each element of a 1-D array is also present in a second array.\n",
    "n1=np.array([1,2,3,8,9])\n",
    "n2=np.array([11,1,20,4,5])\n",
    "result=np.isin(n1,n2)\n",
    "print(result)"
   ]
  },
  {
   "cell_type": "markdown",
   "id": "2111356c",
   "metadata": {},
   "source": [
    "- np.isin() function in NumPy is used to test element-wise whether elements of one array are present in another array. It returns a boolean array of the same shape as the input array, where each element is True if the corresponding element in the input array is present in the specified set of values."
   ]
  },
  {
   "cell_type": "code",
   "execution_count": 9,
   "id": "fc186ad9",
   "metadata": {},
   "outputs": [],
   "source": [
    "#Write a NumPy program to save a NumPy array to a text file.\n",
    "\n",
    "data_array = np.array([[1, 4, 3], [14, 25, 36]])\n",
    "\n",
    "np.savetxt('4_output.txt', data_array, delimiter=',')"
   ]
  },
  {
   "cell_type": "markdown",
   "id": "84a38b99",
   "metadata": {},
   "source": [
    "- np.savetxt(): This function is used to save an array to a text file.\n",
    "\n",
    "- 'output.txt': This is the filename where the array will be saved. In this case, the file will be named \"output.txt.\"\n",
    "\n",
    "- data_array: This is the NumPy array that you want to save to the text file.\n",
    "\n",
    "- delimiter=',': This specifies the delimiter to use between the values in the text file. In this case, a comma , is used as the delimiter."
   ]
  },
  {
   "cell_type": "code",
   "execution_count": null,
   "id": "e1cbcf89",
   "metadata": {},
   "outputs": [],
   "source": [
    "#Write a NumPy program to create a 1-D array of 30 evenly spaced elements between 2.5 and 6.5, inclusive.\n"
   ]
  },
  {
   "cell_type": "code",
   "execution_count": 10,
   "id": "a5eb2c08",
   "metadata": {},
   "outputs": [
    {
     "name": "stdout",
     "output_type": "stream",
     "text": [
      "[2.5        2.63793103 2.77586207 2.9137931  3.05172414 3.18965517\n",
      " 3.32758621 3.46551724 3.60344828 3.74137931 3.87931034 4.01724138\n",
      " 4.15517241 4.29310345 4.43103448 4.56896552 4.70689655 4.84482759\n",
      " 4.98275862 5.12068966 5.25862069 5.39655172 5.53448276 5.67241379\n",
      " 5.81034483 5.94827586 6.0862069  6.22413793 6.36206897 6.5       ]\n"
     ]
    }
   ],
   "source": [
    "result_array = np.linspace(2.5, 6.5, 30)\n",
    "print(result_array)\n"
   ]
  },
  {
   "cell_type": "markdown",
   "id": "d1150d46",
   "metadata": {},
   "source": [
    "- np.linspace(): This function generates evenly spaced values over a specified range.\n",
    "\n",
    "- 2.5: The starting value of the sequence.\n",
    "\n",
    "- 6.5: The end value of the sequence.\n",
    "\n",
    "- 30: The number of evenly spaced values to generate between the start and end."
   ]
  },
  {
   "cell_type": "markdown",
   "id": "950d7185",
   "metadata": {},
   "source": [
    "## Introduction to Pandas (Series and Dataframes)\n",
    "1. Write a Pandas program to convert Series of lists to one Series.\n",
    "2. Write a Pandas program to create a subset of a given series based on value and condition.\n",
    "3. Write a Pandas program to display most frequent value in a given series and replace everything else as 'Other' in the series.\n",
    "4. Write a Pandas program to find the positions of numbers that are multiples of 5 of a given series.\n",
    "5. Write a Pandas program to calculate the number of characters in each word in a given series.\n",
    "6. Write a Pandas program to convert year-month string to dates adding a specified day of the month.\n",
    "7. Write a Pandas program to create and display a DataFrame from a specified dictionary data which has the index labels.\n",
    "8. Write a Pandas program to select the rows where the number of attempts in the examination is greater than 2.\n",
    "9. Write a Pandas program to append a new row 'k' to data frame with given values for each column. Now delete the new row and return the original DataFrame.\n",
    "10. Write a Pandas program to sort the DataFrame first by 'name' in descending order, then by 'score' in ascending order.\n",
    "11. Write a Pandas program to replace the 'qualify' column contains the values 'yes' and 'no' with True and False.\n",
    "112. Write a Pandas program to remove infinite values from a given DataFrame.\n"
   ]
  },
  {
   "cell_type": "code",
   "execution_count": null,
   "id": "1dd8bdaa",
   "metadata": {},
   "outputs": [],
   "source": [
    "#Write a Pandas program to convert Series of lists to one Series."
   ]
  },
  {
   "cell_type": "code",
   "execution_count": 11,
   "id": "a57b82cb",
   "metadata": {},
   "outputs": [
    {
     "name": "stdout",
     "output_type": "stream",
     "text": [
      "0     1\n",
      "0     2\n",
      "0     3\n",
      "0     4\n",
      "1    21\n",
      "1    22\n",
      "2     6\n",
      "dtype: object\n"
     ]
    }
   ],
   "source": [
    "series_eg = pd.Series([[1,2,3,4],[21,22],[6]])\n",
    "result=series_eg.explode()\n",
    "print(result)"
   ]
  },
  {
   "cell_type": "markdown",
   "id": "c8e43812",
   "metadata": {},
   "source": [
    "- a Series is a one-dimensional labeled array capable of holding any data type. It is a fundamental data structure in Pandas and is similar to a column in a spreadsheet or a single-dimensional array.\n",
    "-  this example, the original Series data contains three lists: [1, 2, 3,4], [21, 22], and [6]. After applying explode(), each element in the lists is \"exploded\" into a separate row, resulting in a new Series result_series where each value is an individual item:"
   ]
  },
  {
   "cell_type": "code",
   "execution_count": 12,
   "id": "7df9962c",
   "metadata": {},
   "outputs": [
    {
     "name": "stdout",
     "output_type": "stream",
     "text": [
      "Original Series:\n",
      "0    10\n",
      "1    20\n",
      "2    30\n",
      "3    40\n",
      "4    50\n",
      "5    60\n",
      "dtype: int64\n",
      "\n",
      "Subset based on condition:\n",
      "3    40\n",
      "4    50\n",
      "5    60\n",
      "dtype: int64\n"
     ]
    }
   ],
   "source": [
    "## Write a Pandas program to create a subset of a given series based on value and condition.\n",
    "data = pd.Series([10, 20, 30, 40, 50, 60])\n",
    "condition = data > 30\n",
    "subset = data[condition]\n",
    "print(\"Original Series:\")\n",
    "print(data)\n",
    "\n",
    "print(\"\\nSubset based on condition:\")\n",
    "print(subset)"
   ]
  },
  {
   "cell_type": "code",
   "execution_count": 15,
   "id": "3bd6f77c",
   "metadata": {},
   "outputs": [
    {
     "data": {
      "text/plain": [
       "0     Other\n",
       "1     Other\n",
       "2     Other\n",
       "3     Other\n",
       "4     Other\n",
       "5     Other\n",
       "6     Other\n",
       "7     Other\n",
       "8         5\n",
       "9         5\n",
       "10        5\n",
       "11        5\n",
       "dtype: object"
      ]
     },
     "execution_count": 15,
     "metadata": {},
     "output_type": "execute_result"
    }
   ],
   "source": [
    "##Write a Pandas program to display most frequent value in a given series and replace everything else as 'Other' in the series.\n",
    "data = pd.Series([1, 2, 2, 3, 3, 3, 4, 4, 5, 5, 5, 5])\n",
    "most_frequent_value = data.mode().iloc[0]\n",
    "data[data != most_frequent_value] = 'Other'\n",
    "data"
   ]
  },
  {
   "cell_type": "markdown",
   "id": "90aeed00",
   "metadata": {},
   "source": [
    "- data.mode().iloc[0]: The iloc[0] part is used to retrieve the first (or in this case, the only) element from the result of data.mode(). Since data.mode() returns a Series, iloc[0] is used to access the first value in that Series."
   ]
  },
  {
   "cell_type": "code",
   "execution_count": 16,
   "id": "b436e2b7",
   "metadata": {},
   "outputs": [
    {
     "name": "stdout",
     "output_type": "stream",
     "text": [
      "Positions of numbers that are multiples of 5: [1, 2, 3, 4, 5, 6, 7, 8]\n"
     ]
    }
   ],
   "source": [
    "#Write a Pandas program to find the positions of numbers that are multiples of 5 of a given series.\n",
    "data = pd.Series([1, 5, 10, 15, 20, 25, 30, 35, 40])\n",
    "positions = data.index[data % 5 == 0].tolist()\n",
    "print(\"Positions of numbers that are multiples of 5:\", positions)"
   ]
  },
  {
   "cell_type": "code",
   "execution_count": 18,
   "id": "350d8bf6",
   "metadata": {},
   "outputs": [
    {
     "data": {
      "text/html": [
       "<div>\n",
       "<style scoped>\n",
       "    .dataframe tbody tr th:only-of-type {\n",
       "        vertical-align: middle;\n",
       "    }\n",
       "\n",
       "    .dataframe tbody tr th {\n",
       "        vertical-align: top;\n",
       "    }\n",
       "\n",
       "    .dataframe thead th {\n",
       "        text-align: right;\n",
       "    }\n",
       "</style>\n",
       "<table border=\"1\" class=\"dataframe\">\n",
       "  <thead>\n",
       "    <tr style=\"text-align: right;\">\n",
       "      <th></th>\n",
       "      <th>Word</th>\n",
       "      <th>Length</th>\n",
       "    </tr>\n",
       "  </thead>\n",
       "  <tbody>\n",
       "    <tr>\n",
       "      <th>0</th>\n",
       "      <td>sanjana</td>\n",
       "      <td>7</td>\n",
       "    </tr>\n",
       "    <tr>\n",
       "      <th>1</th>\n",
       "      <td>maruthi</td>\n",
       "      <td>7</td>\n",
       "    </tr>\n",
       "    <tr>\n",
       "      <th>2</th>\n",
       "      <td>cherish</td>\n",
       "      <td>7</td>\n",
       "    </tr>\n",
       "    <tr>\n",
       "      <th>3</th>\n",
       "      <td>srujitha</td>\n",
       "      <td>8</td>\n",
       "    </tr>\n",
       "    <tr>\n",
       "      <th>4</th>\n",
       "      <td>mahitha</td>\n",
       "      <td>7</td>\n",
       "    </tr>\n",
       "  </tbody>\n",
       "</table>\n",
       "</div>"
      ],
      "text/plain": [
       "       Word  Length\n",
       "0   sanjana       7\n",
       "1   maruthi       7\n",
       "2   cherish       7\n",
       "3  srujitha       8\n",
       "4   mahitha       7"
      ]
     },
     "execution_count": 18,
     "metadata": {},
     "output_type": "execute_result"
    }
   ],
   "source": [
    "#Write a Pandas program to calculate the number of characters in each word in a given series.\n",
    "words_series = pd.Series(['sanjana', 'maruthi', 'cherish', 'srujitha', 'mahitha'])\n",
    "word_lengths = words_series.str.len()\n",
    "result_df = pd.DataFrame({'Word': words_series, 'Length': word_lengths})\n",
    "result_df"
   ]
  },
  {
   "cell_type": "code",
   "execution_count": 19,
   "id": "0a8f1128",
   "metadata": {},
   "outputs": [
    {
     "data": {
      "text/html": [
       "<div>\n",
       "<style scoped>\n",
       "    .dataframe tbody tr th:only-of-type {\n",
       "        vertical-align: middle;\n",
       "    }\n",
       "\n",
       "    .dataframe tbody tr th {\n",
       "        vertical-align: top;\n",
       "    }\n",
       "\n",
       "    .dataframe thead th {\n",
       "        text-align: right;\n",
       "    }\n",
       "</style>\n",
       "<table border=\"1\" class=\"dataframe\">\n",
       "  <thead>\n",
       "    <tr style=\"text-align: right;\">\n",
       "      <th></th>\n",
       "      <th>Year-Month String</th>\n",
       "      <th>Converted Date</th>\n",
       "    </tr>\n",
       "  </thead>\n",
       "  <tbody>\n",
       "    <tr>\n",
       "      <th>0</th>\n",
       "      <td>2022-01</td>\n",
       "      <td>2022-01-15</td>\n",
       "    </tr>\n",
       "    <tr>\n",
       "      <th>1</th>\n",
       "      <td>2022-02</td>\n",
       "      <td>2022-02-15</td>\n",
       "    </tr>\n",
       "    <tr>\n",
       "      <th>2</th>\n",
       "      <td>2022-03</td>\n",
       "      <td>2022-03-15</td>\n",
       "    </tr>\n",
       "    <tr>\n",
       "      <th>3</th>\n",
       "      <td>2022-04</td>\n",
       "      <td>2022-04-15</td>\n",
       "    </tr>\n",
       "  </tbody>\n",
       "</table>\n",
       "</div>"
      ],
      "text/plain": [
       "  Year-Month String Converted Date\n",
       "0           2022-01     2022-01-15\n",
       "1           2022-02     2022-02-15\n",
       "2           2022-03     2022-03-15\n",
       "3           2022-04     2022-04-15"
      ]
     },
     "execution_count": 19,
     "metadata": {},
     "output_type": "execute_result"
    }
   ],
   "source": [
    "## Write a Pandas program to convert year-month string to dates adding a specified day of the month.\n",
    "year_month_strings = pd.Series(['2022-01', '2022-02', '2022-03', '2022-04'])\n",
    "specified_day = 15\n",
    "dates_with_specified_day = pd.to_datetime(year_month_strings + '-' + str(specified_day), format='%Y-%m-%d')\n",
    "result_df = pd.DataFrame({'Year-Month String': year_month_strings, 'Converted Date': dates_with_specified_day})\n",
    "result_df"
   ]
  },
  {
   "cell_type": "code",
   "execution_count": 21,
   "id": "85d5bcaa",
   "metadata": {},
   "outputs": [
    {
     "data": {
      "text/html": [
       "<div>\n",
       "<style scoped>\n",
       "    .dataframe tbody tr th:only-of-type {\n",
       "        vertical-align: middle;\n",
       "    }\n",
       "\n",
       "    .dataframe tbody tr th {\n",
       "        vertical-align: top;\n",
       "    }\n",
       "\n",
       "    .dataframe thead th {\n",
       "        text-align: right;\n",
       "    }\n",
       "</style>\n",
       "<table border=\"1\" class=\"dataframe\">\n",
       "  <thead>\n",
       "    <tr style=\"text-align: right;\">\n",
       "      <th></th>\n",
       "      <th>Name</th>\n",
       "      <th>Age</th>\n",
       "      <th>City</th>\n",
       "    </tr>\n",
       "  </thead>\n",
       "  <tbody>\n",
       "    <tr>\n",
       "      <th>Person1</th>\n",
       "      <td>Sanjana</td>\n",
       "      <td>20</td>\n",
       "      <td>New York</td>\n",
       "    </tr>\n",
       "    <tr>\n",
       "      <th>Person2</th>\n",
       "      <td>sanju</td>\n",
       "      <td>20</td>\n",
       "      <td>San Francisco</td>\n",
       "    </tr>\n",
       "    <tr>\n",
       "      <th>Person3</th>\n",
       "      <td>Cherish</td>\n",
       "      <td>21</td>\n",
       "      <td>Los Angeles</td>\n",
       "    </tr>\n",
       "    <tr>\n",
       "      <th>Person4</th>\n",
       "      <td>Daddy</td>\n",
       "      <td>45</td>\n",
       "      <td>Chicago</td>\n",
       "    </tr>\n",
       "  </tbody>\n",
       "</table>\n",
       "</div>"
      ],
      "text/plain": [
       "            Name  Age           City\n",
       "Person1  Sanjana   20       New York\n",
       "Person2    sanju   20  San Francisco\n",
       "Person3  Cherish   21    Los Angeles\n",
       "Person4    Daddy   45        Chicago"
      ]
     },
     "execution_count": 21,
     "metadata": {},
     "output_type": "execute_result"
    }
   ],
   "source": [
    "#Write a Pandas program to create and display a DataFrame from a specified dictionary data which has the index labels.\n",
    "data = {'Name': ['Sanjana', 'sanju', 'Cherish', 'Daddy'],\n",
    "        'Age': [20, 20, 21, 45],\n",
    "        'City': ['New York', 'San Francisco', 'Los Angeles', 'Chicago']}\n",
    "\n",
    "index_labels = ['Person1', 'Person2', 'Person3', 'Person4']\n",
    "df = pd.DataFrame(data, index=index_labels)\n",
    "df"
   ]
  },
  {
   "cell_type": "code",
   "execution_count": 23,
   "id": "e2fd7c5e",
   "metadata": {},
   "outputs": [
    {
     "data": {
      "text/html": [
       "<div>\n",
       "<style scoped>\n",
       "    .dataframe tbody tr th:only-of-type {\n",
       "        vertical-align: middle;\n",
       "    }\n",
       "\n",
       "    .dataframe tbody tr th {\n",
       "        vertical-align: top;\n",
       "    }\n",
       "\n",
       "    .dataframe thead th {\n",
       "        text-align: right;\n",
       "    }\n",
       "</style>\n",
       "<table border=\"1\" class=\"dataframe\">\n",
       "  <thead>\n",
       "    <tr style=\"text-align: right;\">\n",
       "      <th></th>\n",
       "      <th>Name</th>\n",
       "      <th>Attempts</th>\n",
       "    </tr>\n",
       "  </thead>\n",
       "  <tbody>\n",
       "    <tr>\n",
       "      <th>1</th>\n",
       "      <td>Srujitha</td>\n",
       "      <td>3</td>\n",
       "    </tr>\n",
       "    <tr>\n",
       "      <th>2</th>\n",
       "      <td>Cherish</td>\n",
       "      <td>10</td>\n",
       "    </tr>\n",
       "    <tr>\n",
       "      <th>3</th>\n",
       "      <td>Joy</td>\n",
       "      <td>4</td>\n",
       "    </tr>\n",
       "  </tbody>\n",
       "</table>\n",
       "</div>"
      ],
      "text/plain": [
       "       Name  Attempts\n",
       "1  Srujitha         3\n",
       "2   Cherish        10\n",
       "3       Joy         4"
      ]
     },
     "execution_count": 23,
     "metadata": {},
     "output_type": "execute_result"
    }
   ],
   "source": [
    "#Write a Pandas program to select the rows where the number of attempts in the examination is greater than 2.\n",
    "import pandas as pd\n",
    "data = {'Name': ['Sanjana', 'Srujitha', 'Cherish', 'Joy'],\n",
    "        'Attempts': [1, 3,10, 4]}\n",
    "\n",
    "df = pd.DataFrame(data)\n",
    "result_df = df[df['Attempts'] > 2]\n",
    "result_df\n"
   ]
  },
  {
   "cell_type": "code",
   "execution_count": 31,
   "id": "18a9505e",
   "metadata": {},
   "outputs": [
    {
     "name": "stdout",
     "output_type": "stream",
     "text": [
      "DataFrame with New Row:\n",
      "       Name\n",
      "0   Sanjana\n",
      "1  Srujitha\n",
      "2   Cherish\n",
      "3       Joy\n",
      "\n",
      "Original DataFrame after Deleting 'Mahitha':\n"
     ]
    },
    {
     "data": {
      "text/html": [
       "<div>\n",
       "<style scoped>\n",
       "    .dataframe tbody tr th:only-of-type {\n",
       "        vertical-align: middle;\n",
       "    }\n",
       "\n",
       "    .dataframe tbody tr th {\n",
       "        vertical-align: top;\n",
       "    }\n",
       "\n",
       "    .dataframe thead th {\n",
       "        text-align: right;\n",
       "    }\n",
       "</style>\n",
       "<table border=\"1\" class=\"dataframe\">\n",
       "  <thead>\n",
       "    <tr style=\"text-align: right;\">\n",
       "      <th></th>\n",
       "      <th>Name</th>\n",
       "    </tr>\n",
       "  </thead>\n",
       "  <tbody>\n",
       "    <tr>\n",
       "      <th>0</th>\n",
       "      <td>Sanjana</td>\n",
       "    </tr>\n",
       "    <tr>\n",
       "      <th>1</th>\n",
       "      <td>Srujitha</td>\n",
       "    </tr>\n",
       "    <tr>\n",
       "      <th>2</th>\n",
       "      <td>Cherish</td>\n",
       "    </tr>\n",
       "    <tr>\n",
       "      <th>3</th>\n",
       "      <td>Joy</td>\n",
       "    </tr>\n",
       "  </tbody>\n",
       "</table>\n",
       "</div>"
      ],
      "text/plain": [
       "       Name\n",
       "0   Sanjana\n",
       "1  Srujitha\n",
       "2   Cherish\n",
       "3       Joy"
      ]
     },
     "execution_count": 31,
     "metadata": {},
     "output_type": "execute_result"
    }
   ],
   "source": [
    "#Write a Pandas program to append a new row 'k' to data frame with given values for each column. Now delete the new row and return the original DataFrame.\n",
    "import pandas as pd\n",
    "\n",
    "data = {'Name': ['Sanjana', 'Srujitha', 'Cherish', 'Joy']}\n",
    "df = pd.DataFrame(data)\n",
    "\n",
    "new_row_values = {'Name': 'Mahitha'}\n",
    "\n",
    "print(\"DataFrame with New Row:\")\n",
    "print(df)\n",
    "\n",
    "df = df.drop(df[df['Name'] == 'Mahitha'].index)\n",
    "print(\"\\nOriginal DataFrame after Deleting 'Mahitha':\")\n",
    "df\n"
   ]
  },
  {
   "cell_type": "code",
   "execution_count": 33,
   "id": "5658c5a2",
   "metadata": {},
   "outputs": [
    {
     "name": "stdout",
     "output_type": "stream",
     "text": [
      "Sorted DataFrame:\n"
     ]
    },
    {
     "data": {
      "text/html": [
       "<div>\n",
       "<style scoped>\n",
       "    .dataframe tbody tr th:only-of-type {\n",
       "        vertical-align: middle;\n",
       "    }\n",
       "\n",
       "    .dataframe tbody tr th {\n",
       "        vertical-align: top;\n",
       "    }\n",
       "\n",
       "    .dataframe thead th {\n",
       "        text-align: right;\n",
       "    }\n",
       "</style>\n",
       "<table border=\"1\" class=\"dataframe\">\n",
       "  <thead>\n",
       "    <tr style=\"text-align: right;\">\n",
       "      <th></th>\n",
       "      <th>name</th>\n",
       "      <th>score</th>\n",
       "      <th>qualify</th>\n",
       "    </tr>\n",
       "  </thead>\n",
       "  <tbody>\n",
       "    <tr>\n",
       "      <th>1</th>\n",
       "      <td>Srujitha</td>\n",
       "      <td>85</td>\n",
       "      <td>yes</td>\n",
       "    </tr>\n",
       "    <tr>\n",
       "      <th>0</th>\n",
       "      <td>Sanjana</td>\n",
       "      <td>90</td>\n",
       "      <td>yes</td>\n",
       "    </tr>\n",
       "    <tr>\n",
       "      <th>3</th>\n",
       "      <td>Joy</td>\n",
       "      <td>95</td>\n",
       "      <td>yes</td>\n",
       "    </tr>\n",
       "    <tr>\n",
       "      <th>2</th>\n",
       "      <td>Cherish</td>\n",
       "      <td>75</td>\n",
       "      <td>no</td>\n",
       "    </tr>\n",
       "  </tbody>\n",
       "</table>\n",
       "</div>"
      ],
      "text/plain": [
       "       name  score qualify\n",
       "1  Srujitha     85     yes\n",
       "0   Sanjana     90     yes\n",
       "3       Joy     95     yes\n",
       "2   Cherish     75      no"
      ]
     },
     "execution_count": 33,
     "metadata": {},
     "output_type": "execute_result"
    }
   ],
   "source": [
    "#Write a Pandas program to sort the DataFrame first by 'name' in descending order, then by 'score' in ascending order.\n",
    "import pandas as pd\n",
    "\n",
    "data = {'name': ['Sanjana', 'Srujitha', 'Cherish', 'Joy'],\n",
    "        'score': [90, 85, 75, 95],\n",
    "        'qualify': ['yes', 'yes', 'no', 'yes']}\n",
    "\n",
    "df = pd.DataFrame(data)\n",
    "\n",
    "\n",
    "df_sorted = df.sort_values(by=['name', 'score'], ascending=[False, True])\n",
    "print(\"Sorted DataFrame:\")\n",
    "df_sorted\n"
   ]
  },
  {
   "cell_type": "code",
   "execution_count": 35,
   "id": "ce5663db",
   "metadata": {},
   "outputs": [
    {
     "name": "stdout",
     "output_type": "stream",
     "text": [
      "DataFrame after Replacing 'yes' and 'no' with True and False:\n"
     ]
    },
    {
     "data": {
      "text/html": [
       "<div>\n",
       "<style scoped>\n",
       "    .dataframe tbody tr th:only-of-type {\n",
       "        vertical-align: middle;\n",
       "    }\n",
       "\n",
       "    .dataframe tbody tr th {\n",
       "        vertical-align: top;\n",
       "    }\n",
       "\n",
       "    .dataframe thead th {\n",
       "        text-align: right;\n",
       "    }\n",
       "</style>\n",
       "<table border=\"1\" class=\"dataframe\">\n",
       "  <thead>\n",
       "    <tr style=\"text-align: right;\">\n",
       "      <th></th>\n",
       "      <th>name</th>\n",
       "      <th>score</th>\n",
       "      <th>qualify</th>\n",
       "    </tr>\n",
       "  </thead>\n",
       "  <tbody>\n",
       "    <tr>\n",
       "      <th>0</th>\n",
       "      <td>Sanjana</td>\n",
       "      <td>90</td>\n",
       "      <td>True</td>\n",
       "    </tr>\n",
       "    <tr>\n",
       "      <th>1</th>\n",
       "      <td>Srujitha</td>\n",
       "      <td>85</td>\n",
       "      <td>True</td>\n",
       "    </tr>\n",
       "    <tr>\n",
       "      <th>2</th>\n",
       "      <td>Cherish</td>\n",
       "      <td>75</td>\n",
       "      <td>False</td>\n",
       "    </tr>\n",
       "    <tr>\n",
       "      <th>3</th>\n",
       "      <td>Joy</td>\n",
       "      <td>95</td>\n",
       "      <td>True</td>\n",
       "    </tr>\n",
       "  </tbody>\n",
       "</table>\n",
       "</div>"
      ],
      "text/plain": [
       "       name  score  qualify\n",
       "0   Sanjana     90     True\n",
       "1  Srujitha     85     True\n",
       "2   Cherish     75    False\n",
       "3       Joy     95     True"
      ]
     },
     "execution_count": 35,
     "metadata": {},
     "output_type": "execute_result"
    }
   ],
   "source": [
    "#Write a Pandas program to replace the 'qualify' column contains the values 'yes' and 'no' with True and False.\n",
    "import pandas as pd\n",
    "\n",
    "data = {'name': ['Sanjana', 'Srujitha', 'Cherish', 'Joy'],\n",
    "        'score': [90, 85, 75, 95],\n",
    "        'qualify': ['yes', 'yes', 'no', 'yes']}\n",
    "\n",
    "df = pd.DataFrame(data)\n",
    "df['qualify'] = df['qualify'].map({'yes': True, 'no': False})\n",
    "print(\"DataFrame after Replacing 'yes' and 'no' with True and False:\")\n",
    "df"
   ]
  },
  {
   "cell_type": "code",
   "execution_count": 37,
   "id": "0a6ffd20",
   "metadata": {},
   "outputs": [
    {
     "name": "stdout",
     "output_type": "stream",
     "text": [
      "DataFrame after Removing Infinite Values:\n"
     ]
    },
    {
     "data": {
      "text/html": [
       "<div>\n",
       "<style scoped>\n",
       "    .dataframe tbody tr th:only-of-type {\n",
       "        vertical-align: middle;\n",
       "    }\n",
       "\n",
       "    .dataframe tbody tr th {\n",
       "        vertical-align: top;\n",
       "    }\n",
       "\n",
       "    .dataframe thead th {\n",
       "        text-align: right;\n",
       "    }\n",
       "</style>\n",
       "<table border=\"1\" class=\"dataframe\">\n",
       "  <thead>\n",
       "    <tr style=\"text-align: right;\">\n",
       "      <th></th>\n",
       "      <th>name</th>\n",
       "      <th>score</th>\n",
       "    </tr>\n",
       "  </thead>\n",
       "  <tbody>\n",
       "    <tr>\n",
       "      <th>0</th>\n",
       "      <td>Sanjana</td>\n",
       "      <td>90.0</td>\n",
       "    </tr>\n",
       "    <tr>\n",
       "      <th>2</th>\n",
       "      <td>Cherish</td>\n",
       "      <td>75.0</td>\n",
       "    </tr>\n",
       "  </tbody>\n",
       "</table>\n",
       "</div>"
      ],
      "text/plain": [
       "      name  score\n",
       "0  Sanjana   90.0\n",
       "2  Cherish   75.0"
      ]
     },
     "execution_count": 37,
     "metadata": {},
     "output_type": "execute_result"
    }
   ],
   "source": [
    "#Write a Pandas program to remove infinite values from a given DataFrame.\n",
    "import pandas as pd\n",
    "import numpy as np\n",
    "\n",
    "# Original DataFrame with infinite values\n",
    "data = {'name': ['Sanjana', 'Srujitha', 'Cherish', 'Joy'],\n",
    "        'score': [90, np.inf, 75, -np.inf]}\n",
    "\n",
    "df = pd.DataFrame(data)\n",
    "\n",
    "\n",
    "df.replace([np.inf, -np.inf], np.nan, inplace=True)\n",
    "\n",
    "\n",
    "df = df.dropna()\n",
    "\n",
    "# Display the DataFrame after removing infinite values\n",
    "print(\"DataFrame after Removing Infinite Values:\")\n",
    "df\n"
   ]
  },
  {
   "cell_type": "code",
   "execution_count": null,
   "id": "09ef3eee",
   "metadata": {},
   "outputs": [],
   "source": []
  }
 ],
 "metadata": {
  "kernelspec": {
   "display_name": "Python 3 (ipykernel)",
   "language": "python",
   "name": "python3"
  },
  "language_info": {
   "codemirror_mode": {
    "name": "ipython",
    "version": 3
   },
   "file_extension": ".py",
   "mimetype": "text/x-python",
   "name": "python",
   "nbconvert_exporter": "python",
   "pygments_lexer": "ipython3",
   "version": "3.11.5"
  }
 },
 "nbformat": 4,
 "nbformat_minor": 5
}
